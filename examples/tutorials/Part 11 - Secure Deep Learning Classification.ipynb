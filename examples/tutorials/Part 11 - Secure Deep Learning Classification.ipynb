{
 "cells": [
  {
   "cell_type": "code",
   "execution_count": 4,
   "metadata": {
    "tags": [
     "parameters"
    ]
   },
   "outputs": [],
   "source": [
    "epochs = 10\n",
    "n_test_batches = 200"
   ]
  },
  {
   "cell_type": "markdown",
   "metadata": {},
   "source": [
    "# Part 11 - Secure Deep Learning Classification \n",
    "\n",
    "\n",
    "\n",
    "## Your data matters, your model too\n",
    "\n",
    "Data is the driver behind Machine Learning. Organizations who create and collect data are able to build and train their own machine learning models. This allows them to offer the use of such models as a service (MLaaS) to outside organizations. This is useful as other organizations who might not be able to create these models themselves but who still would like to use this model to make predictions on their own data. \n",
    "\n",
    "However, a model hosted in the cloud still presents a privacy/IP issue. In order for external organizations to use it - they must either upload their input data (such as images to be classified) or download the model. Uploading input data can be problematic from a privacy perspective, but downloading the model might not be an option if the organization who created/owns the model is worried about losing their IP.\n",
    "\n",
    "\n",
    "## Computing over encrypted data\n",
    "\n",
    "In this context, one potential solution is to encrypt both the model and the data in a way which allows one organization to use a model owned by another organization without either disclosing their IP to one another. Several encryption schemes exist that allow for computation over encrypted data, among which Secure Multi-Party Computation (SMPC), Homomorphic Encryption (FHE/SHE) and Functional Encryption (FE) are the most well known types. We will focus here on Secure Multi-Party Computation ([introduced in detail here in tutorial 5](https://github.com/OpenMined/PySyft/blob/dev/examples/tutorials/Part%205%20-%20Intro%20to%20Encrypted%20Programs.ipynb)) which consists of private additive sharing. It relies on crypto protocols such as SecureNN and SPDZ, the details of which are given [in this excellent blog post](https://mortendahl.github.io/2017/09/19/private-image-analysis-with-mpc/). \n",
    "\n",
    "These protocols achieve remarkable performances over encrypted data, and over the past few months we have been working to make these protocols easy to use. Specifically, we're building tools to allow you to use these protocols without having to re-implement the protocol yourself (or even necessarily know the cryptography behind how it works). Let's jump right in.\n",
    "\n",
    "## Set up\n",
    "\n",
    "The exact setting in this tutorial is the following: consider that you are the server and you have some data. First, you define and train a model with this private training data. Then, you get in touch with a client who holds some of their own data who would like to access your model to make some predictions. \n",
    "\n",
    "You encrypt your model (a neural network). The client encrypts their data. You both then use these two encrypted assets to use the model to classify the data. Finally, the result of the prediction is sent back to the client in an encrypted way so that the server (_i.e._ you) learns nothing about the client's data (you learn neither the inputs or the prediction).\n",
    "\n",
    "Ideally we would additively share the `client`'s input between itself and the `server` and vice versa for the model. For the sake of simplicity, the shares will be held by two other workers `alice` and `bob`. If you consider that alice is owned by the client and bob by the server, it's completely equivalent.\n",
    "\n",
    "The computation is secure in the honest-but-curious adversary model which is standard in [many MPC frameworks](https://arxiv.org/pdf/1801.03239.pdf).\n",
    "\n",
    "**We have now everything we need, let's get started!**\n",
    "\n",
    "\n",
    "Author:\n",
    "- Théo Ryffel - Twitter: [@theoryffel](https://twitter.com/theoryffel) · GitHub: [@LaRiffle](https://github.com/LaRiffle)\n",
    "\n",
    "**Let's get started!**"
   ]
  },
  {
   "cell_type": "markdown",
   "metadata": {},
   "source": [
    "### Imports and model specifications"
   ]
  },
  {
   "cell_type": "code",
   "execution_count": 1,
   "metadata": {},
   "outputs": [],
   "source": [
    "import torch\n",
    "import torch.nn as nn\n",
    "import torch.nn.functional as F\n",
    "import torch.optim as optim\n",
    "from torchvision import datasets, transforms"
   ]
  },
  {
   "cell_type": "markdown",
   "metadata": {},
   "source": [
    "   We also need to execute commands specific to importing/starting PySyft. We create a few workers (named `client`, `bob`, and `alice`). Lastly, we define the `crypto_provider` who gives all the crypto primitives we may need ([See our tutorial on SMPC for more details](https://github.com/OpenMined/PySyft/blob/master/examples/tutorials/Part%2009%20-%20Intro%20to%20Encrypted%20Programs.ipynb)."
   ]
  },
  {
   "cell_type": "code",
   "execution_count": 2,
   "metadata": {},
   "outputs": [],
   "source": [
    "import syft as sy\n",
    "hook = sy.TorchHook(torch) \n",
    "client = sy.VirtualWorker(hook, id=\"client\")\n",
    "bob = sy.VirtualWorker(hook, id=\"bob\")\n",
    "alice = sy.VirtualWorker(hook, id=\"alice\")\n",
    "crypto_provider = sy.VirtualWorker(hook, id=\"crypto_provider\") "
   ]
  },
  {
   "cell_type": "markdown",
   "metadata": {},
   "source": [
    "We define the setting of the learning task"
   ]
  },
  {
   "cell_type": "code",
   "execution_count": 5,
   "metadata": {},
   "outputs": [],
   "source": [
    "class Arguments():\n",
    "    def __init__(self):\n",
    "        self.batch_size = 64\n",
    "        self.test_batch_size = 50\n",
    "        self.epochs = epochs\n",
    "        self.lr = 0.001\n",
    "        self.log_interval = 100\n",
    "\n",
    "args = Arguments()"
   ]
  },
  {
   "cell_type": "markdown",
   "metadata": {},
   "source": [
    "### Data loading and sending to workers\n",
    "\n",
    "In our setting, we assume that the server has access to some data to first train its model. Here is the MNIST training set."
   ]
  },
  {
   "cell_type": "code",
   "execution_count": 6,
   "metadata": {},
   "outputs": [
    {
     "name": "stdout",
     "output_type": "stream",
     "text": [
      "Downloading http://yann.lecun.com/exdb/mnist/train-images-idx3-ubyte.gz to ../data/MNIST/raw/train-images-idx3-ubyte.gz\n"
     ]
    },
    {
     "name": "stderr",
     "output_type": "stream",
     "text": [
      "100.1%"
     ]
    },
    {
     "name": "stdout",
     "output_type": "stream",
     "text": [
      "Extracting ../data/MNIST/raw/train-images-idx3-ubyte.gz to ../data/MNIST/raw\n",
      "Downloading http://yann.lecun.com/exdb/mnist/train-labels-idx1-ubyte.gz to ../data/MNIST/raw/train-labels-idx1-ubyte.gz\n"
     ]
    },
    {
     "name": "stderr",
     "output_type": "stream",
     "text": [
      "113.5%"
     ]
    },
    {
     "name": "stdout",
     "output_type": "stream",
     "text": [
      "Extracting ../data/MNIST/raw/train-labels-idx1-ubyte.gz to ../data/MNIST/raw\n",
      "Downloading http://yann.lecun.com/exdb/mnist/t10k-images-idx3-ubyte.gz to ../data/MNIST/raw/t10k-images-idx3-ubyte.gz\n"
     ]
    },
    {
     "name": "stderr",
     "output_type": "stream",
     "text": [
      "100.4%"
     ]
    },
    {
     "name": "stdout",
     "output_type": "stream",
     "text": [
      "Extracting ../data/MNIST/raw/t10k-images-idx3-ubyte.gz to ../data/MNIST/raw\n",
      "Downloading http://yann.lecun.com/exdb/mnist/t10k-labels-idx1-ubyte.gz to ../data/MNIST/raw/t10k-labels-idx1-ubyte.gz\n"
     ]
    },
    {
     "name": "stderr",
     "output_type": "stream",
     "text": [
      "180.4%"
     ]
    },
    {
     "name": "stdout",
     "output_type": "stream",
     "text": [
      "Extracting ../data/MNIST/raw/t10k-labels-idx1-ubyte.gz to ../data/MNIST/raw\n",
      "Processing...\n",
      "Done!\n"
     ]
    }
   ],
   "source": [
    "train_loader = torch.utils.data.DataLoader(\n",
    "    datasets.MNIST('../data', train=True, download=True,\n",
    "                   transform=transforms.Compose([\n",
    "                       transforms.ToTensor(),\n",
    "                       transforms.Normalize((0.1307,), (0.3081,))\n",
    "                   ])),\n",
    "    batch_size=args.batch_size, shuffle=True)"
   ]
  },
  {
   "cell_type": "markdown",
   "metadata": {},
   "source": [
    "Second, the client has some data and would like to have predictions on it using the server's model. This client encrypts its data by sharing it additively across two workers `alice` and `bob`.\n",
    "> SMPC uses crypto protocols which require to work on integers. We leverage here the PySyft tensor abstraction to convert PyTorch Float tensors into Fixed Precision Tensors using `.fix_precision()`. For example 0.123 with precision 2 does a rounding at the 2nd decimal digit so the number stored is the integer 12. \n"
   ]
  },
  {
   "cell_type": "code",
   "execution_count": 7,
   "metadata": {},
   "outputs": [],
   "source": [
    "test_loader = torch.utils.data.DataLoader(\n",
    "    datasets.MNIST('../data', train=False,\n",
    "                   transform=transforms.Compose([\n",
    "                       transforms.ToTensor(),\n",
    "                       transforms.Normalize((0.1307,), (0.3081,))\n",
    "                   ])),\n",
    "    batch_size=args.test_batch_size, shuffle=True)\n",
    "\n",
    "private_test_loader = []\n",
    "for data, target in test_loader:\n",
    "    private_test_loader.append((\n",
    "        data.fix_precision().share(alice, bob, crypto_provider=crypto_provider),\n",
    "        target.fix_precision().share(alice, bob, crypto_provider=crypto_provider)\n",
    "    ))"
   ]
  },
  {
   "cell_type": "markdown",
   "metadata": {},
   "source": [
    "### Feed Forward Neural Network specification\n",
    "Here is the network specification used by the server"
   ]
  },
  {
   "cell_type": "code",
   "execution_count": 8,
   "metadata": {},
   "outputs": [],
   "source": [
    "class Net(nn.Module):\n",
    "    def __init__(self):\n",
    "        super(Net, self).__init__()\n",
    "        self.fc1 = nn.Linear(784, 500)\n",
    "        self.fc2 = nn.Linear(500, 10)\n",
    "\n",
    "    def forward(self, x):\n",
    "        x = x.view(-1, 784)\n",
    "        x = self.fc1(x)\n",
    "        x = F.relu(x)\n",
    "        x = self.fc2(x)\n",
    "        return x"
   ]
  },
  {
   "cell_type": "markdown",
   "metadata": {},
   "source": [
    "### Launch the training\n",
    "The training is done locally so this is pure local PyTorch training, nothing special here!"
   ]
  },
  {
   "cell_type": "code",
   "execution_count": 9,
   "metadata": {},
   "outputs": [],
   "source": [
    "def train(args, model, train_loader, optimizer, epoch):\n",
    "    model.train()\n",
    "    for batch_idx, (data, target) in enumerate(train_loader):\n",
    "        optimizer.zero_grad()\n",
    "        output = model(data)\n",
    "        output = F.log_softmax(output, dim=1)\n",
    "        loss = F.nll_loss(output, target)\n",
    "        loss.backward()\n",
    "        optimizer.step()\n",
    "        if batch_idx % args.log_interval == 0:\n",
    "            print('Train Epoch: {} [{}/{} ({:.0f}%)]\\tLoss: {:.6f}'.format(\n",
    "                epoch, batch_idx * args.batch_size, len(train_loader) * args.batch_size,\n",
    "                100. * batch_idx / len(train_loader), loss.item()))\n",
    "            \n",
    "#print('Train Epoch: {} [{}/{} ({:.0f}%)]\\tLoss: {:.6f}'.format(\n",
    "#                epoch, batch_idx * args.batch_size, len(train_loader) * args.batch_size,\n",
    "#                100. * batch_idx / len(train_loader), loss.item()))"
   ]
  },
  {
   "cell_type": "code",
   "execution_count": 10,
   "metadata": {},
   "outputs": [
    {
     "name": "stdout",
     "output_type": "stream",
     "text": [
      "Train Epoch: 1 [0/60032 (0%)]\tLoss: 2.283838\n",
      "Train Epoch: 1 [6400/60032 (11%)]\tLoss: 0.267141\n",
      "Train Epoch: 1 [12800/60032 (21%)]\tLoss: 0.229039\n",
      "Train Epoch: 1 [19200/60032 (32%)]\tLoss: 0.553228\n",
      "Train Epoch: 1 [25600/60032 (43%)]\tLoss: 0.149818\n",
      "Train Epoch: 1 [32000/60032 (53%)]\tLoss: 0.421305\n",
      "Train Epoch: 1 [38400/60032 (64%)]\tLoss: 0.094496\n",
      "Train Epoch: 1 [44800/60032 (75%)]\tLoss: 0.256656\n",
      "Train Epoch: 1 [51200/60032 (85%)]\tLoss: 0.104174\n",
      "Train Epoch: 1 [57600/60032 (96%)]\tLoss: 0.064962\n",
      "Train Epoch: 2 [0/60032 (0%)]\tLoss: 0.017738\n",
      "Train Epoch: 2 [6400/60032 (11%)]\tLoss: 0.111242\n",
      "Train Epoch: 2 [12800/60032 (21%)]\tLoss: 0.091199\n",
      "Train Epoch: 2 [19200/60032 (32%)]\tLoss: 0.092571\n",
      "Train Epoch: 2 [25600/60032 (43%)]\tLoss: 0.074382\n",
      "Train Epoch: 2 [32000/60032 (53%)]\tLoss: 0.154210\n",
      "Train Epoch: 2 [38400/60032 (64%)]\tLoss: 0.131779\n",
      "Train Epoch: 2 [44800/60032 (75%)]\tLoss: 0.079826\n",
      "Train Epoch: 2 [51200/60032 (85%)]\tLoss: 0.135046\n",
      "Train Epoch: 2 [57600/60032 (96%)]\tLoss: 0.090075\n",
      "Train Epoch: 3 [0/60032 (0%)]\tLoss: 0.059064\n",
      "Train Epoch: 3 [6400/60032 (11%)]\tLoss: 0.009492\n",
      "Train Epoch: 3 [12800/60032 (21%)]\tLoss: 0.069080\n",
      "Train Epoch: 3 [19200/60032 (32%)]\tLoss: 0.014948\n",
      "Train Epoch: 3 [25600/60032 (43%)]\tLoss: 0.145772\n",
      "Train Epoch: 3 [32000/60032 (53%)]\tLoss: 0.117700\n",
      "Train Epoch: 3 [38400/60032 (64%)]\tLoss: 0.157405\n",
      "Train Epoch: 3 [44800/60032 (75%)]\tLoss: 0.068635\n",
      "Train Epoch: 3 [51200/60032 (85%)]\tLoss: 0.017993\n",
      "Train Epoch: 3 [57600/60032 (96%)]\tLoss: 0.060482\n",
      "Train Epoch: 4 [0/60032 (0%)]\tLoss: 0.043506\n",
      "Train Epoch: 4 [6400/60032 (11%)]\tLoss: 0.010703\n",
      "Train Epoch: 4 [12800/60032 (21%)]\tLoss: 0.008201\n",
      "Train Epoch: 4 [19200/60032 (32%)]\tLoss: 0.091812\n",
      "Train Epoch: 4 [25600/60032 (43%)]\tLoss: 0.017887\n",
      "Train Epoch: 4 [32000/60032 (53%)]\tLoss: 0.020461\n",
      "Train Epoch: 4 [38400/60032 (64%)]\tLoss: 0.010429\n",
      "Train Epoch: 4 [44800/60032 (75%)]\tLoss: 0.056992\n",
      "Train Epoch: 4 [51200/60032 (85%)]\tLoss: 0.058129\n",
      "Train Epoch: 4 [57600/60032 (96%)]\tLoss: 0.023799\n",
      "Train Epoch: 5 [0/60032 (0%)]\tLoss: 0.030426\n",
      "Train Epoch: 5 [6400/60032 (11%)]\tLoss: 0.006489\n",
      "Train Epoch: 5 [12800/60032 (21%)]\tLoss: 0.012225\n",
      "Train Epoch: 5 [19200/60032 (32%)]\tLoss: 0.008357\n",
      "Train Epoch: 5 [25600/60032 (43%)]\tLoss: 0.017429\n",
      "Train Epoch: 5 [32000/60032 (53%)]\tLoss: 0.068201\n",
      "Train Epoch: 5 [38400/60032 (64%)]\tLoss: 0.029667\n",
      "Train Epoch: 5 [44800/60032 (75%)]\tLoss: 0.018699\n",
      "Train Epoch: 5 [51200/60032 (85%)]\tLoss: 0.010565\n",
      "Train Epoch: 5 [57600/60032 (96%)]\tLoss: 0.041443\n",
      "Train Epoch: 6 [0/60032 (0%)]\tLoss: 0.007301\n",
      "Train Epoch: 6 [6400/60032 (11%)]\tLoss: 0.002584\n",
      "Train Epoch: 6 [12800/60032 (21%)]\tLoss: 0.004813\n",
      "Train Epoch: 6 [19200/60032 (32%)]\tLoss: 0.041763\n",
      "Train Epoch: 6 [25600/60032 (43%)]\tLoss: 0.051332\n",
      "Train Epoch: 6 [32000/60032 (53%)]\tLoss: 0.004931\n",
      "Train Epoch: 6 [38400/60032 (64%)]\tLoss: 0.008920\n",
      "Train Epoch: 6 [44800/60032 (75%)]\tLoss: 0.002594\n",
      "Train Epoch: 6 [51200/60032 (85%)]\tLoss: 0.097301\n",
      "Train Epoch: 6 [57600/60032 (96%)]\tLoss: 0.004510\n",
      "Train Epoch: 7 [0/60032 (0%)]\tLoss: 0.011646\n",
      "Train Epoch: 7 [6400/60032 (11%)]\tLoss: 0.012643\n",
      "Train Epoch: 7 [12800/60032 (21%)]\tLoss: 0.052976\n",
      "Train Epoch: 7 [19200/60032 (32%)]\tLoss: 0.017834\n",
      "Train Epoch: 7 [25600/60032 (43%)]\tLoss: 0.036508\n",
      "Train Epoch: 7 [32000/60032 (53%)]\tLoss: 0.005084\n",
      "Train Epoch: 7 [38400/60032 (64%)]\tLoss: 0.007048\n",
      "Train Epoch: 7 [44800/60032 (75%)]\tLoss: 0.178201\n",
      "Train Epoch: 7 [51200/60032 (85%)]\tLoss: 0.010609\n",
      "Train Epoch: 7 [57600/60032 (96%)]\tLoss: 0.032263\n",
      "Train Epoch: 8 [0/60032 (0%)]\tLoss: 0.009090\n",
      "Train Epoch: 8 [6400/60032 (11%)]\tLoss: 0.007247\n",
      "Train Epoch: 8 [12800/60032 (21%)]\tLoss: 0.005447\n",
      "Train Epoch: 8 [19200/60032 (32%)]\tLoss: 0.002646\n",
      "Train Epoch: 8 [25600/60032 (43%)]\tLoss: 0.003635\n",
      "Train Epoch: 8 [32000/60032 (53%)]\tLoss: 0.010015\n",
      "Train Epoch: 8 [38400/60032 (64%)]\tLoss: 0.005285\n",
      "Train Epoch: 8 [44800/60032 (75%)]\tLoss: 0.068821\n",
      "Train Epoch: 8 [51200/60032 (85%)]\tLoss: 0.004068\n",
      "Train Epoch: 8 [57600/60032 (96%)]\tLoss: 0.002114\n",
      "Train Epoch: 9 [0/60032 (0%)]\tLoss: 0.010377\n",
      "Train Epoch: 9 [6400/60032 (11%)]\tLoss: 0.007726\n",
      "Train Epoch: 9 [12800/60032 (21%)]\tLoss: 0.012377\n",
      "Train Epoch: 9 [19200/60032 (32%)]\tLoss: 0.001577\n",
      "Train Epoch: 9 [25600/60032 (43%)]\tLoss: 0.003971\n",
      "Train Epoch: 9 [32000/60032 (53%)]\tLoss: 0.000425\n",
      "Train Epoch: 9 [38400/60032 (64%)]\tLoss: 0.001181\n",
      "Train Epoch: 9 [44800/60032 (75%)]\tLoss: 0.012892\n",
      "Train Epoch: 9 [51200/60032 (85%)]\tLoss: 0.034656\n",
      "Train Epoch: 9 [57600/60032 (96%)]\tLoss: 0.058309\n",
      "Train Epoch: 10 [0/60032 (0%)]\tLoss: 0.000565\n",
      "Train Epoch: 10 [6400/60032 (11%)]\tLoss: 0.001694\n",
      "Train Epoch: 10 [12800/60032 (21%)]\tLoss: 0.000273\n",
      "Train Epoch: 10 [19200/60032 (32%)]\tLoss: 0.000417\n",
      "Train Epoch: 10 [25600/60032 (43%)]\tLoss: 0.000777\n",
      "Train Epoch: 10 [32000/60032 (53%)]\tLoss: 0.114808\n",
      "Train Epoch: 10 [38400/60032 (64%)]\tLoss: 0.019967\n",
      "Train Epoch: 10 [44800/60032 (75%)]\tLoss: 0.000466\n",
      "Train Epoch: 10 [51200/60032 (85%)]\tLoss: 0.017417\n",
      "Train Epoch: 10 [57600/60032 (96%)]\tLoss: 0.026365\n"
     ]
    }
   ],
   "source": [
    "model = Net()\n",
    "optimizer = torch.optim.Adam(model.parameters(), lr=args.lr)\n",
    "\n",
    "for epoch in range(1, args.epochs + 1):\n",
    "    train(args, model, train_loader, optimizer, epoch)\n"
   ]
  },
  {
   "cell_type": "code",
   "execution_count": 11,
   "metadata": {},
   "outputs": [],
   "source": [
    "def test(args, model, test_loader):\n",
    "    model.eval()\n",
    "    test_loss = 0\n",
    "    correct = 0\n",
    "    with torch.no_grad():\n",
    "        for data, target in test_loader:\n",
    "            output = model(data)\n",
    "            output = F.log_softmax(output, dim=1)\n",
    "            test_loss += F.nll_loss(output, target, reduction='sum').item() # sum up batch loss\n",
    "            pred = output.argmax(1, keepdim=True) # get the index of the max log-probability \n",
    "            correct += pred.eq(target.view_as(pred)).sum().item()\n",
    "\n",
    "    test_loss /= len(test_loader.dataset)\n",
    "\n",
    "    print('\\nTest set: Average loss: {:.4f}, Accuracy: {}/{} ({:.0f}%)\\n'.format(\n",
    "        test_loss, correct, len(test_loader.dataset),\n",
    "        100. * correct / len(test_loader.dataset)))"
   ]
  },
  {
   "cell_type": "code",
   "execution_count": 12,
   "metadata": {},
   "outputs": [
    {
     "name": "stdout",
     "output_type": "stream",
     "text": [
      "\n",
      "Test set: Average loss: 0.0890, Accuracy: 9803/10000 (98%)\n",
      "\n"
     ]
    }
   ],
   "source": [
    "test(args, model, test_loader)"
   ]
  },
  {
   "cell_type": "markdown",
   "metadata": {},
   "source": [
    "Our model is now trained and ready to be provided as a service!"
   ]
  },
  {
   "cell_type": "markdown",
   "metadata": {},
   "source": [
    "## Secure evaluation"
   ]
  },
  {
   "cell_type": "markdown",
   "metadata": {},
   "source": [
    "Now, as the server, we send the model to the workers holding the data. Because the model is sensitive information (you've spent time optimizing it!), you don't want to disclose its weights so you secret share the model just like we did with the dataset earlier."
   ]
  },
  {
   "cell_type": "code",
   "execution_count": 13,
   "metadata": {},
   "outputs": [
    {
     "data": {
      "text/plain": [
       "Net(\n",
       "  (fc1): Linear(in_features=784, out_features=500, bias=True)\n",
       "  (fc2): Linear(in_features=500, out_features=10, bias=True)\n",
       ")"
      ]
     },
     "execution_count": 13,
     "metadata": {},
     "output_type": "execute_result"
    }
   ],
   "source": [
    "model.fix_precision().share(alice, bob, crypto_provider=crypto_provider)"
   ]
  },
  {
   "cell_type": "markdown",
   "metadata": {},
   "source": [
    "This test function performs the encrypted evaluation. The model weights, the data inputs, the prediction and the target used for scoring are encrypted!\n",
    "\n",
    "However, the syntax is very similar to pure PyTorch testing of a model, isn't it nice?!\n",
    "\n",
    "The only thing we decrypt from the server side is the final score at the end to verify predictions were on average good."
   ]
  },
  {
   "cell_type": "code",
   "execution_count": 14,
   "metadata": {},
   "outputs": [],
   "source": [
    "def test(args, model, test_loader):\n",
    "    model.eval()\n",
    "    n_correct_priv = 0\n",
    "    n_total = 0\n",
    "    with torch.no_grad():\n",
    "        for data, target in test_loader[:n_test_batches]:\n",
    "            output = model(data)\n",
    "            pred = output.argmax(dim=1) \n",
    "            n_correct_priv += pred.eq(target.view_as(pred)).sum()\n",
    "            n_total += args.test_batch_size\n",
    "# This 'test' function performs the encrypted evaluation. The model weights, the data inputs, the prediction and the target used for scoring are all encrypted!\n",
    "\n",
    "# However as you can observe, the syntax is very similar to normal PyTorch testing! Nice!\n",
    "\n",
    "# The only thing we decrypt from the server side is the final score at the end of our 200 items batches to verify predictions were on average good.      \n",
    "            n_correct = n_correct_priv.copy().get().float_precision().long().item()\n",
    "    \n",
    "            print('Test set: Accuracy: {}/{} ({:.0f}%)'.format(\n",
    "                n_correct, n_total,\n",
    "                100. * n_correct / n_total))\n"
   ]
  },
  {
   "cell_type": "code",
   "execution_count": 15,
   "metadata": {},
   "outputs": [
    {
     "name": "stdout",
     "output_type": "stream",
     "text": [
      "Test set: Accuracy: 50/50 (100%)\n",
      "Test set: Accuracy: 100/100 (100%)\n",
      "Test set: Accuracy: 147/150 (98%)\n",
      "Test set: Accuracy: 196/200 (98%)\n",
      "Test set: Accuracy: 246/250 (98%)\n",
      "Test set: Accuracy: 296/300 (99%)\n",
      "Test set: Accuracy: 346/350 (99%)\n",
      "Test set: Accuracy: 396/400 (99%)\n",
      "Test set: Accuracy: 444/450 (99%)\n",
      "Test set: Accuracy: 494/500 (99%)\n",
      "Test set: Accuracy: 543/550 (99%)\n",
      "Test set: Accuracy: 592/600 (99%)\n",
      "Test set: Accuracy: 641/650 (99%)\n",
      "Test set: Accuracy: 690/700 (99%)\n",
      "Test set: Accuracy: 738/750 (98%)\n",
      "Test set: Accuracy: 788/800 (98%)\n",
      "Test set: Accuracy: 838/850 (99%)\n",
      "Test set: Accuracy: 885/900 (98%)\n",
      "Test set: Accuracy: 933/950 (98%)\n",
      "Test set: Accuracy: 982/1000 (98%)\n",
      "Test set: Accuracy: 1032/1050 (98%)\n",
      "Test set: Accuracy: 1082/1100 (98%)\n",
      "Test set: Accuracy: 1130/1150 (98%)\n",
      "Test set: Accuracy: 1179/1200 (98%)\n",
      "Test set: Accuracy: 1228/1250 (98%)\n",
      "Test set: Accuracy: 1277/1300 (98%)\n",
      "Test set: Accuracy: 1327/1350 (98%)\n",
      "Test set: Accuracy: 1375/1400 (98%)\n",
      "Test set: Accuracy: 1423/1450 (98%)\n",
      "Test set: Accuracy: 1472/1500 (98%)\n",
      "Test set: Accuracy: 1519/1550 (98%)\n",
      "Test set: Accuracy: 1569/1600 (98%)\n",
      "Test set: Accuracy: 1619/1650 (98%)\n",
      "Test set: Accuracy: 1668/1700 (98%)\n",
      "Test set: Accuracy: 1718/1750 (98%)\n",
      "Test set: Accuracy: 1766/1800 (98%)\n",
      "Test set: Accuracy: 1816/1850 (98%)\n",
      "Test set: Accuracy: 1863/1900 (98%)\n",
      "Test set: Accuracy: 1911/1950 (98%)\n",
      "Test set: Accuracy: 1960/2000 (98%)\n",
      "Test set: Accuracy: 2009/2050 (98%)\n",
      "Test set: Accuracy: 2059/2100 (98%)\n",
      "Test set: Accuracy: 2109/2150 (98%)\n",
      "Test set: Accuracy: 2156/2200 (98%)\n",
      "Test set: Accuracy: 2205/2250 (98%)\n",
      "Test set: Accuracy: 2255/2300 (98%)\n",
      "Test set: Accuracy: 2303/2350 (98%)\n",
      "Test set: Accuracy: 2350/2400 (98%)\n",
      "Test set: Accuracy: 2398/2450 (98%)\n",
      "Test set: Accuracy: 2447/2500 (98%)\n",
      "Test set: Accuracy: 2495/2550 (98%)\n",
      "Test set: Accuracy: 2545/2600 (98%)\n",
      "Test set: Accuracy: 2595/2650 (98%)\n",
      "Test set: Accuracy: 2644/2700 (98%)\n",
      "Test set: Accuracy: 2692/2750 (98%)\n",
      "Test set: Accuracy: 2742/2800 (98%)\n",
      "Test set: Accuracy: 2788/2850 (98%)\n",
      "Test set: Accuracy: 2837/2900 (98%)\n",
      "Test set: Accuracy: 2887/2950 (98%)\n",
      "Test set: Accuracy: 2934/3000 (98%)\n",
      "Test set: Accuracy: 2984/3050 (98%)\n",
      "Test set: Accuracy: 3033/3100 (98%)\n",
      "Test set: Accuracy: 3083/3150 (98%)\n",
      "Test set: Accuracy: 3130/3200 (98%)\n",
      "Test set: Accuracy: 3180/3250 (98%)\n",
      "Test set: Accuracy: 3230/3300 (98%)\n",
      "Test set: Accuracy: 3279/3350 (98%)\n",
      "Test set: Accuracy: 3328/3400 (98%)\n",
      "Test set: Accuracy: 3378/3450 (98%)\n",
      "Test set: Accuracy: 3428/3500 (98%)\n",
      "Test set: Accuracy: 3478/3550 (98%)\n",
      "Test set: Accuracy: 3527/3600 (98%)\n",
      "Test set: Accuracy: 3576/3650 (98%)\n",
      "Test set: Accuracy: 3624/3700 (98%)\n",
      "Test set: Accuracy: 3674/3750 (98%)\n",
      "Test set: Accuracy: 3722/3800 (98%)\n",
      "Test set: Accuracy: 3771/3850 (98%)\n",
      "Test set: Accuracy: 3819/3900 (98%)\n",
      "Test set: Accuracy: 3868/3950 (98%)\n",
      "Test set: Accuracy: 3918/4000 (98%)\n",
      "Test set: Accuracy: 3965/4050 (98%)\n",
      "Test set: Accuracy: 4015/4100 (98%)\n",
      "Test set: Accuracy: 4063/4150 (98%)\n",
      "Test set: Accuracy: 4111/4200 (98%)\n",
      "Test set: Accuracy: 4161/4250 (98%)\n",
      "Test set: Accuracy: 4210/4300 (98%)\n",
      "Test set: Accuracy: 4260/4350 (98%)\n",
      "Test set: Accuracy: 4309/4400 (98%)\n",
      "Test set: Accuracy: 4359/4450 (98%)\n",
      "Test set: Accuracy: 4409/4500 (98%)\n",
      "Test set: Accuracy: 4459/4550 (98%)\n",
      "Test set: Accuracy: 4509/4600 (98%)\n",
      "Test set: Accuracy: 4557/4650 (98%)\n",
      "Test set: Accuracy: 4607/4700 (98%)\n",
      "Test set: Accuracy: 4657/4750 (98%)\n",
      "Test set: Accuracy: 4706/4800 (98%)\n",
      "Test set: Accuracy: 4755/4850 (98%)\n",
      "Test set: Accuracy: 4803/4900 (98%)\n",
      "Test set: Accuracy: 4852/4950 (98%)\n",
      "Test set: Accuracy: 4902/5000 (98%)\n",
      "Test set: Accuracy: 4951/5050 (98%)\n",
      "Test set: Accuracy: 5001/5100 (98%)\n",
      "Test set: Accuracy: 5050/5150 (98%)\n",
      "Test set: Accuracy: 5100/5200 (98%)\n",
      "Test set: Accuracy: 5150/5250 (98%)\n",
      "Test set: Accuracy: 5200/5300 (98%)\n",
      "Test set: Accuracy: 5249/5350 (98%)\n",
      "Test set: Accuracy: 5299/5400 (98%)\n",
      "Test set: Accuracy: 5348/5450 (98%)\n",
      "Test set: Accuracy: 5398/5500 (98%)\n",
      "Test set: Accuracy: 5446/5550 (98%)\n",
      "Test set: Accuracy: 5495/5600 (98%)\n",
      "Test set: Accuracy: 5543/5650 (98%)\n",
      "Test set: Accuracy: 5593/5700 (98%)\n",
      "Test set: Accuracy: 5643/5750 (98%)\n",
      "Test set: Accuracy: 5693/5800 (98%)\n",
      "Test set: Accuracy: 5743/5850 (98%)\n",
      "Test set: Accuracy: 5791/5900 (98%)\n",
      "Test set: Accuracy: 5840/5950 (98%)\n",
      "Test set: Accuracy: 5889/6000 (98%)\n",
      "Test set: Accuracy: 5938/6050 (98%)\n",
      "Test set: Accuracy: 5987/6100 (98%)\n",
      "Test set: Accuracy: 6037/6150 (98%)\n",
      "Test set: Accuracy: 6084/6200 (98%)\n",
      "Test set: Accuracy: 6134/6250 (98%)\n",
      "Test set: Accuracy: 6184/6300 (98%)\n",
      "Test set: Accuracy: 6232/6350 (98%)\n",
      "Test set: Accuracy: 6282/6400 (98%)\n",
      "Test set: Accuracy: 6332/6450 (98%)\n",
      "Test set: Accuracy: 6381/6500 (98%)\n",
      "Test set: Accuracy: 6430/6550 (98%)\n",
      "Test set: Accuracy: 6477/6600 (98%)\n",
      "Test set: Accuracy: 6524/6650 (98%)\n",
      "Test set: Accuracy: 6572/6700 (98%)\n",
      "Test set: Accuracy: 6620/6750 (98%)\n",
      "Test set: Accuracy: 6668/6800 (98%)\n",
      "Test set: Accuracy: 6717/6850 (98%)\n",
      "Test set: Accuracy: 6767/6900 (98%)\n",
      "Test set: Accuracy: 6816/6950 (98%)\n",
      "Test set: Accuracy: 6864/7000 (98%)\n",
      "Test set: Accuracy: 6913/7050 (98%)\n",
      "Test set: Accuracy: 6962/7100 (98%)\n",
      "Test set: Accuracy: 7009/7150 (98%)\n",
      "Test set: Accuracy: 7058/7200 (98%)\n",
      "Test set: Accuracy: 7107/7250 (98%)\n",
      "Test set: Accuracy: 7157/7300 (98%)\n",
      "Test set: Accuracy: 7207/7350 (98%)\n",
      "Test set: Accuracy: 7256/7400 (98%)\n",
      "Test set: Accuracy: 7306/7450 (98%)\n",
      "Test set: Accuracy: 7355/7500 (98%)\n",
      "Test set: Accuracy: 7403/7550 (98%)\n",
      "Test set: Accuracy: 7452/7600 (98%)\n",
      "Test set: Accuracy: 7499/7650 (98%)\n",
      "Test set: Accuracy: 7548/7700 (98%)\n",
      "Test set: Accuracy: 7598/7750 (98%)\n",
      "Test set: Accuracy: 7648/7800 (98%)\n",
      "Test set: Accuracy: 7696/7850 (98%)\n",
      "Test set: Accuracy: 7746/7900 (98%)\n",
      "Test set: Accuracy: 7792/7950 (98%)\n",
      "Test set: Accuracy: 7841/8000 (98%)\n",
      "Test set: Accuracy: 7891/8050 (98%)\n",
      "Test set: Accuracy: 7939/8100 (98%)\n",
      "Test set: Accuracy: 7986/8150 (98%)\n",
      "Test set: Accuracy: 8036/8200 (98%)\n",
      "Test set: Accuracy: 8086/8250 (98%)\n",
      "Test set: Accuracy: 8134/8300 (98%)\n",
      "Test set: Accuracy: 8184/8350 (98%)\n",
      "Test set: Accuracy: 8233/8400 (98%)\n",
      "Test set: Accuracy: 8283/8450 (98%)\n",
      "Test set: Accuracy: 8332/8500 (98%)\n",
      "Test set: Accuracy: 8380/8550 (98%)\n",
      "Test set: Accuracy: 8430/8600 (98%)\n",
      "Test set: Accuracy: 8480/8650 (98%)\n",
      "Test set: Accuracy: 8529/8700 (98%)\n",
      "Test set: Accuracy: 8579/8750 (98%)\n",
      "Test set: Accuracy: 8627/8800 (98%)\n",
      "Test set: Accuracy: 8676/8850 (98%)\n",
      "Test set: Accuracy: 8724/8900 (98%)\n",
      "Test set: Accuracy: 8773/8950 (98%)\n",
      "Test set: Accuracy: 8822/9000 (98%)\n",
      "Test set: Accuracy: 8870/9050 (98%)\n",
      "Test set: Accuracy: 8920/9100 (98%)\n",
      "Test set: Accuracy: 8970/9150 (98%)\n",
      "Test set: Accuracy: 9019/9200 (98%)\n",
      "Test set: Accuracy: 9069/9250 (98%)\n",
      "Test set: Accuracy: 9118/9300 (98%)\n",
      "Test set: Accuracy: 9165/9350 (98%)\n",
      "Test set: Accuracy: 9215/9400 (98%)\n",
      "Test set: Accuracy: 9264/9450 (98%)\n",
      "Test set: Accuracy: 9313/9500 (98%)\n",
      "Test set: Accuracy: 9362/9550 (98%)\n",
      "Test set: Accuracy: 9411/9600 (98%)\n",
      "Test set: Accuracy: 9460/9650 (98%)\n",
      "Test set: Accuracy: 9506/9700 (98%)\n",
      "Test set: Accuracy: 9556/9750 (98%)\n",
      "Test set: Accuracy: 9605/9800 (98%)\n",
      "Test set: Accuracy: 9653/9850 (98%)\n",
      "Test set: Accuracy: 9703/9900 (98%)\n",
      "Test set: Accuracy: 9753/9950 (98%)\n",
      "Test set: Accuracy: 9802/10000 (98%)\n"
     ]
    }
   ],
   "source": [
    "test(args, model, private_test_loader)"
   ]
  },
  {
   "cell_type": "markdown",
   "metadata": {},
   "source": [
    "Et voilà! Here you are, you have learned how to do end to end secure predictions: the weights of the server's model have not leaked to the client and the server has no information about the data input nor the classification output!\n",
    "\n",
    "Regarding performance, classifying one image takes **less than 0.1 second**, approximately **33ms** on my laptop (2,7 GHz Intel Core i7, 16GB RAM). However, this is using very fast communication (all the workers are on my local machine). Performance will vary depending on how fast different workers can talk to each other."
   ]
  },
  {
   "cell_type": "markdown",
   "metadata": {},
   "source": [
    "## Conclusion\n",
    "\n",
    "You have seen how easy it is to leverage PyTorch and PySyft to perform practical Secure Machine Learning and protect users data, without having to be a crypto expert!\n",
    "\n",
    "More on this topic will come soon, including convolutional layers to properly benchmark PySyft performance with respect to other libraries, as well as private encrypted training of neural networks, which is needed when a organisation resorts to external sensitive data to train its own model. Stay tuned!\n",
    "\n",
    "If you enjoyed this and would like to join the movement toward privacy preserving, decentralized ownership of AI and the AI supply chain (data), you can do so in the following ways! \n",
    "\n",
    "### Star PySyft on GitHub\n",
    "\n",
    "The easiest way to help our community is just by starring the repositories! This helps raise awareness of the cool tools we're building.\n",
    "\n",
    "- [Star PySyft](https://github.com/OpenMined/PySyft)\n",
    "\n",
    "### Pick our tutorials on GitHub!\n",
    "\n",
    "We made really nice tutorials to get a better understanding of what Federated and Privacy-Preserving Learning should look like and how we are building the bricks for this to happen.\n",
    "\n",
    "- [Checkout the PySyft tutorials](https://github.com/OpenMined/PySyft/tree/master/examples/tutorials)\n",
    "\n",
    "\n",
    "### Join our Slack!\n",
    "\n",
    "The best way to keep up to date on the latest advancements is to join our community! \n",
    "\n",
    "- [Join slack.openmined.org](http://slack.openmined.org)\n",
    "\n",
    "### Join a Code Project!\n",
    "\n",
    "The best way to contribute to our community is to become a code contributor! If you want to start \"one off\" mini-projects, you can go to PySyft GitHub Issues page and search for issues marked `Good First Issue`.\n",
    "\n",
    "- [Good First Issue Tickets](https://github.com/OpenMined/PySyft/issues?q=is%3Aopen+is%3Aissue+label%3A%22good+first+issue%22)\n",
    "\n",
    "### Donate\n",
    "\n",
    "If you don't have time to contribute to our codebase, but would still like to lend support, you can also become a Backer on our Open Collective. All donations go toward our web hosting and other community expenses such as hackathons and meetups!\n",
    "\n",
    "- [Donate through OpenMined's Open Collective Page](https://opencollective.com/openmined)"
   ]
  },
  {
   "cell_type": "code",
   "execution_count": null,
   "metadata": {},
   "outputs": [],
   "source": []
  }
 ],
 "metadata": {
  "celltoolbar": "Tags",
  "kernelspec": {
   "display_name": "Python 3",
   "language": "python",
   "name": "python3"
  },
  "language_info": {
   "codemirror_mode": {
    "name": "ipython",
    "version": 3
   },
   "file_extension": ".py",
   "mimetype": "text/x-python",
   "name": "python",
   "nbconvert_exporter": "python",
   "pygments_lexer": "ipython3",
   "version": "3.7.7"
  }
 },
 "nbformat": 4,
 "nbformat_minor": 2
}
